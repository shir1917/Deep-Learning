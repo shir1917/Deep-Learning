{
  "nbformat": 4,
  "nbformat_minor": 0,
  "metadata": {
    "colab": {
      "name": "issue8963.ipynb",
      "provenance": [],
      "include_colab_link": true
    },
    "kernelspec": {
      "name": "python3",
      "display_name": "Python 3"
    },
    "widgets": {
      "application/vnd.jupyter.widget-state+json": {
        "0021de91fffd43fb936d451b26212553": {
          "model_module": "@jupyter-widgets/controls",
          "model_name": "HBoxModel",
          "state": {
            "_view_name": "HBoxView",
            "_dom_classes": [],
            "_model_name": "HBoxModel",
            "_view_module": "@jupyter-widgets/controls",
            "_model_module_version": "1.5.0",
            "_view_count": null,
            "_view_module_version": "1.5.0",
            "box_style": "",
            "layout": "IPY_MODEL_4ad915a3d80c45b2ba69d9ab1104b4a0",
            "_model_module": "@jupyter-widgets/controls",
            "children": [
              "IPY_MODEL_448bd6fd874e41f58104c60241421f96",
              "IPY_MODEL_827f47567713435dbdc5e823affb7bb1"
            ]
          }
        },
        "4ad915a3d80c45b2ba69d9ab1104b4a0": {
          "model_module": "@jupyter-widgets/base",
          "model_name": "LayoutModel",
          "state": {
            "_view_name": "LayoutView",
            "grid_template_rows": null,
            "right": null,
            "justify_content": null,
            "_view_module": "@jupyter-widgets/base",
            "overflow": null,
            "_model_module_version": "1.2.0",
            "_view_count": null,
            "flex_flow": null,
            "width": null,
            "min_width": null,
            "border": null,
            "align_items": null,
            "bottom": null,
            "_model_module": "@jupyter-widgets/base",
            "top": null,
            "grid_column": null,
            "overflow_y": null,
            "overflow_x": null,
            "grid_auto_flow": null,
            "grid_area": null,
            "grid_template_columns": null,
            "flex": null,
            "_model_name": "LayoutModel",
            "justify_items": null,
            "grid_row": null,
            "max_height": null,
            "align_content": null,
            "visibility": null,
            "align_self": null,
            "height": null,
            "min_height": null,
            "padding": null,
            "grid_auto_rows": null,
            "grid_gap": null,
            "max_width": null,
            "order": null,
            "_view_module_version": "1.2.0",
            "grid_template_areas": null,
            "object_position": null,
            "object_fit": null,
            "grid_auto_columns": null,
            "margin": null,
            "display": null,
            "left": null
          }
        },
        "448bd6fd874e41f58104c60241421f96": {
          "model_module": "@jupyter-widgets/controls",
          "model_name": "FloatProgressModel",
          "state": {
            "_view_name": "ProgressView",
            "style": "IPY_MODEL_ac6f6ef3de784fdb9f1838ae8b632f44",
            "_dom_classes": [],
            "description": "Downloading: 100%",
            "_model_name": "FloatProgressModel",
            "bar_style": "success",
            "max": 1912529,
            "_view_module": "@jupyter-widgets/controls",
            "_model_module_version": "1.5.0",
            "value": 1912529,
            "_view_count": null,
            "_view_module_version": "1.5.0",
            "orientation": "horizontal",
            "min": 0,
            "description_tooltip": null,
            "_model_module": "@jupyter-widgets/controls",
            "layout": "IPY_MODEL_7df16df897724a7c97305b913c569f8f"
          }
        },
        "827f47567713435dbdc5e823affb7bb1": {
          "model_module": "@jupyter-widgets/controls",
          "model_name": "HTMLModel",
          "state": {
            "_view_name": "HTMLView",
            "style": "IPY_MODEL_771afe0810dc45bc86961930cf7d991a",
            "_dom_classes": [],
            "description": "",
            "_model_name": "HTMLModel",
            "placeholder": "​",
            "_view_module": "@jupyter-widgets/controls",
            "_model_module_version": "1.5.0",
            "value": " 1.91M/1.91M [00:00&lt;00:00, 15.4MB/s]",
            "_view_count": null,
            "_view_module_version": "1.5.0",
            "description_tooltip": null,
            "_model_module": "@jupyter-widgets/controls",
            "layout": "IPY_MODEL_58cc19b9de324af882a0eca089561e55"
          }
        },
        "ac6f6ef3de784fdb9f1838ae8b632f44": {
          "model_module": "@jupyter-widgets/controls",
          "model_name": "ProgressStyleModel",
          "state": {
            "_view_name": "StyleView",
            "_model_name": "ProgressStyleModel",
            "description_width": "initial",
            "_view_module": "@jupyter-widgets/base",
            "_model_module_version": "1.5.0",
            "_view_count": null,
            "_view_module_version": "1.2.0",
            "bar_color": null,
            "_model_module": "@jupyter-widgets/controls"
          }
        },
        "7df16df897724a7c97305b913c569f8f": {
          "model_module": "@jupyter-widgets/base",
          "model_name": "LayoutModel",
          "state": {
            "_view_name": "LayoutView",
            "grid_template_rows": null,
            "right": null,
            "justify_content": null,
            "_view_module": "@jupyter-widgets/base",
            "overflow": null,
            "_model_module_version": "1.2.0",
            "_view_count": null,
            "flex_flow": null,
            "width": null,
            "min_width": null,
            "border": null,
            "align_items": null,
            "bottom": null,
            "_model_module": "@jupyter-widgets/base",
            "top": null,
            "grid_column": null,
            "overflow_y": null,
            "overflow_x": null,
            "grid_auto_flow": null,
            "grid_area": null,
            "grid_template_columns": null,
            "flex": null,
            "_model_name": "LayoutModel",
            "justify_items": null,
            "grid_row": null,
            "max_height": null,
            "align_content": null,
            "visibility": null,
            "align_self": null,
            "height": null,
            "min_height": null,
            "padding": null,
            "grid_auto_rows": null,
            "grid_gap": null,
            "max_width": null,
            "order": null,
            "_view_module_version": "1.2.0",
            "grid_template_areas": null,
            "object_position": null,
            "object_fit": null,
            "grid_auto_columns": null,
            "margin": null,
            "display": null,
            "left": null
          }
        },
        "771afe0810dc45bc86961930cf7d991a": {
          "model_module": "@jupyter-widgets/controls",
          "model_name": "DescriptionStyleModel",
          "state": {
            "_view_name": "StyleView",
            "_model_name": "DescriptionStyleModel",
            "description_width": "",
            "_view_module": "@jupyter-widgets/base",
            "_model_module_version": "1.5.0",
            "_view_count": null,
            "_view_module_version": "1.2.0",
            "_model_module": "@jupyter-widgets/controls"
          }
        },
        "58cc19b9de324af882a0eca089561e55": {
          "model_module": "@jupyter-widgets/base",
          "model_name": "LayoutModel",
          "state": {
            "_view_name": "LayoutView",
            "grid_template_rows": null,
            "right": null,
            "justify_content": null,
            "_view_module": "@jupyter-widgets/base",
            "overflow": null,
            "_model_module_version": "1.2.0",
            "_view_count": null,
            "flex_flow": null,
            "width": null,
            "min_width": null,
            "border": null,
            "align_items": null,
            "bottom": null,
            "_model_module": "@jupyter-widgets/base",
            "top": null,
            "grid_column": null,
            "overflow_y": null,
            "overflow_x": null,
            "grid_auto_flow": null,
            "grid_area": null,
            "grid_template_columns": null,
            "flex": null,
            "_model_name": "LayoutModel",
            "justify_items": null,
            "grid_row": null,
            "max_height": null,
            "align_content": null,
            "visibility": null,
            "align_self": null,
            "height": null,
            "min_height": null,
            "padding": null,
            "grid_auto_rows": null,
            "grid_gap": null,
            "max_width": null,
            "order": null,
            "_view_module_version": "1.2.0",
            "grid_template_areas": null,
            "object_position": null,
            "object_fit": null,
            "grid_auto_columns": null,
            "margin": null,
            "display": null,
            "left": null
          }
        },
        "7da39267b52948ce902ec211fa27e11b": {
          "model_module": "@jupyter-widgets/controls",
          "model_name": "HBoxModel",
          "state": {
            "_view_name": "HBoxView",
            "_dom_classes": [],
            "_model_name": "HBoxModel",
            "_view_module": "@jupyter-widgets/controls",
            "_model_module_version": "1.5.0",
            "_view_count": null,
            "_view_module_version": "1.5.0",
            "box_style": "",
            "layout": "IPY_MODEL_f0c0a284d6434df4850e43fc2d3915bd",
            "_model_module": "@jupyter-widgets/controls",
            "children": [
              "IPY_MODEL_a960aef0ad6e458d9493e590b5b5c1be",
              "IPY_MODEL_1ed094ceb6e34f02a27caa12a65ff11d"
            ]
          }
        },
        "f0c0a284d6434df4850e43fc2d3915bd": {
          "model_module": "@jupyter-widgets/base",
          "model_name": "LayoutModel",
          "state": {
            "_view_name": "LayoutView",
            "grid_template_rows": null,
            "right": null,
            "justify_content": null,
            "_view_module": "@jupyter-widgets/base",
            "overflow": null,
            "_model_module_version": "1.2.0",
            "_view_count": null,
            "flex_flow": null,
            "width": null,
            "min_width": null,
            "border": null,
            "align_items": null,
            "bottom": null,
            "_model_module": "@jupyter-widgets/base",
            "top": null,
            "grid_column": null,
            "overflow_y": null,
            "overflow_x": null,
            "grid_auto_flow": null,
            "grid_area": null,
            "grid_template_columns": null,
            "flex": null,
            "_model_name": "LayoutModel",
            "justify_items": null,
            "grid_row": null,
            "max_height": null,
            "align_content": null,
            "visibility": null,
            "align_self": null,
            "height": null,
            "min_height": null,
            "padding": null,
            "grid_auto_rows": null,
            "grid_gap": null,
            "max_width": null,
            "order": null,
            "_view_module_version": "1.2.0",
            "grid_template_areas": null,
            "object_position": null,
            "object_fit": null,
            "grid_auto_columns": null,
            "margin": null,
            "display": null,
            "left": null
          }
        },
        "a960aef0ad6e458d9493e590b5b5c1be": {
          "model_module": "@jupyter-widgets/controls",
          "model_name": "FloatProgressModel",
          "state": {
            "_view_name": "ProgressView",
            "style": "IPY_MODEL_6cd8dadf1bb442478094fcad8c1a855c",
            "_dom_classes": [],
            "description": "Downloading: 100%",
            "_model_name": "FloatProgressModel",
            "bar_style": "success",
            "max": 65,
            "_view_module": "@jupyter-widgets/controls",
            "_model_module_version": "1.5.0",
            "value": 65,
            "_view_count": null,
            "_view_module_version": "1.5.0",
            "orientation": "horizontal",
            "min": 0,
            "description_tooltip": null,
            "_model_module": "@jupyter-widgets/controls",
            "layout": "IPY_MODEL_d88ac234fa0044f39acb199ff68376df"
          }
        },
        "1ed094ceb6e34f02a27caa12a65ff11d": {
          "model_module": "@jupyter-widgets/controls",
          "model_name": "HTMLModel",
          "state": {
            "_view_name": "HTMLView",
            "style": "IPY_MODEL_d58fb7e629ca460a8a908caecbad1405",
            "_dom_classes": [],
            "description": "",
            "_model_name": "HTMLModel",
            "placeholder": "​",
            "_view_module": "@jupyter-widgets/controls",
            "_model_module_version": "1.5.0",
            "value": " 65.0/65.0 [00:00&lt;00:00, 133B/s]",
            "_view_count": null,
            "_view_module_version": "1.5.0",
            "description_tooltip": null,
            "_model_module": "@jupyter-widgets/controls",
            "layout": "IPY_MODEL_4de52ebf4ddd424eb8d28c41898b38a2"
          }
        },
        "6cd8dadf1bb442478094fcad8c1a855c": {
          "model_module": "@jupyter-widgets/controls",
          "model_name": "ProgressStyleModel",
          "state": {
            "_view_name": "StyleView",
            "_model_name": "ProgressStyleModel",
            "description_width": "initial",
            "_view_module": "@jupyter-widgets/base",
            "_model_module_version": "1.5.0",
            "_view_count": null,
            "_view_module_version": "1.2.0",
            "bar_color": null,
            "_model_module": "@jupyter-widgets/controls"
          }
        },
        "d88ac234fa0044f39acb199ff68376df": {
          "model_module": "@jupyter-widgets/base",
          "model_name": "LayoutModel",
          "state": {
            "_view_name": "LayoutView",
            "grid_template_rows": null,
            "right": null,
            "justify_content": null,
            "_view_module": "@jupyter-widgets/base",
            "overflow": null,
            "_model_module_version": "1.2.0",
            "_view_count": null,
            "flex_flow": null,
            "width": null,
            "min_width": null,
            "border": null,
            "align_items": null,
            "bottom": null,
            "_model_module": "@jupyter-widgets/base",
            "top": null,
            "grid_column": null,
            "overflow_y": null,
            "overflow_x": null,
            "grid_auto_flow": null,
            "grid_area": null,
            "grid_template_columns": null,
            "flex": null,
            "_model_name": "LayoutModel",
            "justify_items": null,
            "grid_row": null,
            "max_height": null,
            "align_content": null,
            "visibility": null,
            "align_self": null,
            "height": null,
            "min_height": null,
            "padding": null,
            "grid_auto_rows": null,
            "grid_gap": null,
            "max_width": null,
            "order": null,
            "_view_module_version": "1.2.0",
            "grid_template_areas": null,
            "object_position": null,
            "object_fit": null,
            "grid_auto_columns": null,
            "margin": null,
            "display": null,
            "left": null
          }
        },
        "d58fb7e629ca460a8a908caecbad1405": {
          "model_module": "@jupyter-widgets/controls",
          "model_name": "DescriptionStyleModel",
          "state": {
            "_view_name": "StyleView",
            "_model_name": "DescriptionStyleModel",
            "description_width": "",
            "_view_module": "@jupyter-widgets/base",
            "_model_module_version": "1.5.0",
            "_view_count": null,
            "_view_module_version": "1.2.0",
            "_model_module": "@jupyter-widgets/controls"
          }
        },
        "4de52ebf4ddd424eb8d28c41898b38a2": {
          "model_module": "@jupyter-widgets/base",
          "model_name": "LayoutModel",
          "state": {
            "_view_name": "LayoutView",
            "grid_template_rows": null,
            "right": null,
            "justify_content": null,
            "_view_module": "@jupyter-widgets/base",
            "overflow": null,
            "_model_module_version": "1.2.0",
            "_view_count": null,
            "flex_flow": null,
            "width": null,
            "min_width": null,
            "border": null,
            "align_items": null,
            "bottom": null,
            "_model_module": "@jupyter-widgets/base",
            "top": null,
            "grid_column": null,
            "overflow_y": null,
            "overflow_x": null,
            "grid_auto_flow": null,
            "grid_area": null,
            "grid_template_columns": null,
            "flex": null,
            "_model_name": "LayoutModel",
            "justify_items": null,
            "grid_row": null,
            "max_height": null,
            "align_content": null,
            "visibility": null,
            "align_self": null,
            "height": null,
            "min_height": null,
            "padding": null,
            "grid_auto_rows": null,
            "grid_gap": null,
            "max_width": null,
            "order": null,
            "_view_module_version": "1.2.0",
            "grid_template_areas": null,
            "object_position": null,
            "object_fit": null,
            "grid_auto_columns": null,
            "margin": null,
            "display": null,
            "left": null
          }
        },
        "353f7bfcecf649e3bf97a306ba21b607": {
          "model_module": "@jupyter-widgets/controls",
          "model_name": "HBoxModel",
          "state": {
            "_view_name": "HBoxView",
            "_dom_classes": [],
            "_model_name": "HBoxModel",
            "_view_module": "@jupyter-widgets/controls",
            "_model_module_version": "1.5.0",
            "_view_count": null,
            "_view_module_version": "1.5.0",
            "box_style": "",
            "layout": "IPY_MODEL_cec0b1af59304b3181d38179f01fc385",
            "_model_module": "@jupyter-widgets/controls",
            "children": [
              "IPY_MODEL_091894c44095473f92adc83092ba7422",
              "IPY_MODEL_0ce27752e6114124ad3de25954b01dde"
            ]
          }
        },
        "cec0b1af59304b3181d38179f01fc385": {
          "model_module": "@jupyter-widgets/base",
          "model_name": "LayoutModel",
          "state": {
            "_view_name": "LayoutView",
            "grid_template_rows": null,
            "right": null,
            "justify_content": null,
            "_view_module": "@jupyter-widgets/base",
            "overflow": null,
            "_model_module_version": "1.2.0",
            "_view_count": null,
            "flex_flow": null,
            "width": null,
            "min_width": null,
            "border": null,
            "align_items": null,
            "bottom": null,
            "_model_module": "@jupyter-widgets/base",
            "top": null,
            "grid_column": null,
            "overflow_y": null,
            "overflow_x": null,
            "grid_auto_flow": null,
            "grid_area": null,
            "grid_template_columns": null,
            "flex": null,
            "_model_name": "LayoutModel",
            "justify_items": null,
            "grid_row": null,
            "max_height": null,
            "align_content": null,
            "visibility": null,
            "align_self": null,
            "height": null,
            "min_height": null,
            "padding": null,
            "grid_auto_rows": null,
            "grid_gap": null,
            "max_width": null,
            "order": null,
            "_view_module_version": "1.2.0",
            "grid_template_areas": null,
            "object_position": null,
            "object_fit": null,
            "grid_auto_columns": null,
            "margin": null,
            "display": null,
            "left": null
          }
        },
        "091894c44095473f92adc83092ba7422": {
          "model_module": "@jupyter-widgets/controls",
          "model_name": "FloatProgressModel",
          "state": {
            "_view_name": "ProgressView",
            "style": "IPY_MODEL_be174f1fee68459b9297de3cd7251d05",
            "_dom_classes": [],
            "description": "Downloading: 100%",
            "_model_name": "FloatProgressModel",
            "bar_style": "success",
            "max": 88,
            "_view_module": "@jupyter-widgets/controls",
            "_model_module_version": "1.5.0",
            "value": 88,
            "_view_count": null,
            "_view_module_version": "1.5.0",
            "orientation": "horizontal",
            "min": 0,
            "description_tooltip": null,
            "_model_module": "@jupyter-widgets/controls",
            "layout": "IPY_MODEL_d4738f64b2b54edaa4da929ab1291edc"
          }
        },
        "0ce27752e6114124ad3de25954b01dde": {
          "model_module": "@jupyter-widgets/controls",
          "model_name": "HTMLModel",
          "state": {
            "_view_name": "HTMLView",
            "style": "IPY_MODEL_e610c05d88b44ea68d9183387530ddeb",
            "_dom_classes": [],
            "description": "",
            "_model_name": "HTMLModel",
            "placeholder": "​",
            "_view_module": "@jupyter-widgets/controls",
            "_model_module_version": "1.5.0",
            "value": " 88.0/88.0 [00:00&lt;00:00, 212B/s]",
            "_view_count": null,
            "_view_module_version": "1.5.0",
            "description_tooltip": null,
            "_model_module": "@jupyter-widgets/controls",
            "layout": "IPY_MODEL_55e137b95c8e4a7ab8b403e87916f388"
          }
        },
        "be174f1fee68459b9297de3cd7251d05": {
          "model_module": "@jupyter-widgets/controls",
          "model_name": "ProgressStyleModel",
          "state": {
            "_view_name": "StyleView",
            "_model_name": "ProgressStyleModel",
            "description_width": "initial",
            "_view_module": "@jupyter-widgets/base",
            "_model_module_version": "1.5.0",
            "_view_count": null,
            "_view_module_version": "1.2.0",
            "bar_color": null,
            "_model_module": "@jupyter-widgets/controls"
          }
        },
        "d4738f64b2b54edaa4da929ab1291edc": {
          "model_module": "@jupyter-widgets/base",
          "model_name": "LayoutModel",
          "state": {
            "_view_name": "LayoutView",
            "grid_template_rows": null,
            "right": null,
            "justify_content": null,
            "_view_module": "@jupyter-widgets/base",
            "overflow": null,
            "_model_module_version": "1.2.0",
            "_view_count": null,
            "flex_flow": null,
            "width": null,
            "min_width": null,
            "border": null,
            "align_items": null,
            "bottom": null,
            "_model_module": "@jupyter-widgets/base",
            "top": null,
            "grid_column": null,
            "overflow_y": null,
            "overflow_x": null,
            "grid_auto_flow": null,
            "grid_area": null,
            "grid_template_columns": null,
            "flex": null,
            "_model_name": "LayoutModel",
            "justify_items": null,
            "grid_row": null,
            "max_height": null,
            "align_content": null,
            "visibility": null,
            "align_self": null,
            "height": null,
            "min_height": null,
            "padding": null,
            "grid_auto_rows": null,
            "grid_gap": null,
            "max_width": null,
            "order": null,
            "_view_module_version": "1.2.0",
            "grid_template_areas": null,
            "object_position": null,
            "object_fit": null,
            "grid_auto_columns": null,
            "margin": null,
            "display": null,
            "left": null
          }
        },
        "e610c05d88b44ea68d9183387530ddeb": {
          "model_module": "@jupyter-widgets/controls",
          "model_name": "DescriptionStyleModel",
          "state": {
            "_view_name": "StyleView",
            "_model_name": "DescriptionStyleModel",
            "description_width": "",
            "_view_module": "@jupyter-widgets/base",
            "_model_module_version": "1.5.0",
            "_view_count": null,
            "_view_module_version": "1.2.0",
            "_model_module": "@jupyter-widgets/controls"
          }
        },
        "55e137b95c8e4a7ab8b403e87916f388": {
          "model_module": "@jupyter-widgets/base",
          "model_name": "LayoutModel",
          "state": {
            "_view_name": "LayoutView",
            "grid_template_rows": null,
            "right": null,
            "justify_content": null,
            "_view_module": "@jupyter-widgets/base",
            "overflow": null,
            "_model_module_version": "1.2.0",
            "_view_count": null,
            "flex_flow": null,
            "width": null,
            "min_width": null,
            "border": null,
            "align_items": null,
            "bottom": null,
            "_model_module": "@jupyter-widgets/base",
            "top": null,
            "grid_column": null,
            "overflow_y": null,
            "overflow_x": null,
            "grid_auto_flow": null,
            "grid_area": null,
            "grid_template_columns": null,
            "flex": null,
            "_model_name": "LayoutModel",
            "justify_items": null,
            "grid_row": null,
            "max_height": null,
            "align_content": null,
            "visibility": null,
            "align_self": null,
            "height": null,
            "min_height": null,
            "padding": null,
            "grid_auto_rows": null,
            "grid_gap": null,
            "max_width": null,
            "order": null,
            "_view_module_version": "1.2.0",
            "grid_template_areas": null,
            "object_position": null,
            "object_fit": null,
            "grid_auto_columns": null,
            "margin": null,
            "display": null,
            "left": null
          }
        }
      }
    },
    "accelerator": "GPU"
  },
  "cells": [
    {
      "cell_type": "markdown",
      "metadata": {
        "id": "view-in-github",
        "colab_type": "text"
      },
      "source": [
        "<a href=\"https://colab.research.google.com/github/srulikbd/Deep-Learning/blob/master/Summarize-Pegasus.ipynb\" target=\"_parent\"><img src=\"https://colab.research.google.com/assets/colab-badge.svg\" alt=\"Open In Colab\"/></a>"
      ]
    },
    {
      "cell_type": "code",
      "metadata": {
        "colab": {
          "base_uri": "https://localhost:8080/"
        },
        "id": "CQkIx5hP41zU",
        "outputId": "a60d65b8-2270-47eb-aa91-b23df3674929"
      },
      "source": [
        "!pip install -U transformers\n",
        "!pip install sentencepiece"
      ],
      "execution_count": 1,
      "outputs": [
        {
          "output_type": "stream",
          "text": [
            "Collecting transformers\n",
            "\u001b[?25l  Downloading https://files.pythonhosted.org/packages/50/0c/7d5950fcd80b029be0a8891727ba21e0cd27692c407c51261c3c921f6da3/transformers-4.1.1-py3-none-any.whl (1.5MB)\n",
            "\r\u001b[K     |▏                               | 10kB 19.9MB/s eta 0:00:01\r\u001b[K     |▍                               | 20kB 16.3MB/s eta 0:00:01\r\u001b[K     |▋                               | 30kB 15.0MB/s eta 0:00:01\r\u001b[K     |▉                               | 40kB 14.4MB/s eta 0:00:01\r\u001b[K     |█                               | 51kB 11.9MB/s eta 0:00:01\r\u001b[K     |█▎                              | 61kB 12.2MB/s eta 0:00:01\r\u001b[K     |█▌                              | 71kB 12.1MB/s eta 0:00:01\r\u001b[K     |█▊                              | 81kB 12.4MB/s eta 0:00:01\r\u001b[K     |██                              | 92kB 12.2MB/s eta 0:00:01\r\u001b[K     |██▏                             | 102kB 12.1MB/s eta 0:00:01\r\u001b[K     |██▍                             | 112kB 12.1MB/s eta 0:00:01\r\u001b[K     |██▋                             | 122kB 12.1MB/s eta 0:00:01\r\u001b[K     |██▉                             | 133kB 12.1MB/s eta 0:00:01\r\u001b[K     |███                             | 143kB 12.1MB/s eta 0:00:01\r\u001b[K     |███▎                            | 153kB 12.1MB/s eta 0:00:01\r\u001b[K     |███▌                            | 163kB 12.1MB/s eta 0:00:01\r\u001b[K     |███▊                            | 174kB 12.1MB/s eta 0:00:01\r\u001b[K     |████                            | 184kB 12.1MB/s eta 0:00:01\r\u001b[K     |████▏                           | 194kB 12.1MB/s eta 0:00:01\r\u001b[K     |████▎                           | 204kB 12.1MB/s eta 0:00:01\r\u001b[K     |████▌                           | 215kB 12.1MB/s eta 0:00:01\r\u001b[K     |████▊                           | 225kB 12.1MB/s eta 0:00:01\r\u001b[K     |█████                           | 235kB 12.1MB/s eta 0:00:01\r\u001b[K     |█████▏                          | 245kB 12.1MB/s eta 0:00:01\r\u001b[K     |█████▍                          | 256kB 12.1MB/s eta 0:00:01\r\u001b[K     |█████▋                          | 266kB 12.1MB/s eta 0:00:01\r\u001b[K     |█████▉                          | 276kB 12.1MB/s eta 0:00:01\r\u001b[K     |██████                          | 286kB 12.1MB/s eta 0:00:01\r\u001b[K     |██████▎                         | 296kB 12.1MB/s eta 0:00:01\r\u001b[K     |██████▌                         | 307kB 12.1MB/s eta 0:00:01\r\u001b[K     |██████▊                         | 317kB 12.1MB/s eta 0:00:01\r\u001b[K     |███████                         | 327kB 12.1MB/s eta 0:00:01\r\u001b[K     |███████▏                        | 337kB 12.1MB/s eta 0:00:01\r\u001b[K     |███████▍                        | 348kB 12.1MB/s eta 0:00:01\r\u001b[K     |███████▋                        | 358kB 12.1MB/s eta 0:00:01\r\u001b[K     |███████▉                        | 368kB 12.1MB/s eta 0:00:01\r\u001b[K     |████████                        | 378kB 12.1MB/s eta 0:00:01\r\u001b[K     |████████▎                       | 389kB 12.1MB/s eta 0:00:01\r\u001b[K     |████████▌                       | 399kB 12.1MB/s eta 0:00:01\r\u001b[K     |████████▋                       | 409kB 12.1MB/s eta 0:00:01\r\u001b[K     |████████▉                       | 419kB 12.1MB/s eta 0:00:01\r\u001b[K     |█████████                       | 430kB 12.1MB/s eta 0:00:01\r\u001b[K     |█████████▎                      | 440kB 12.1MB/s eta 0:00:01\r\u001b[K     |█████████▌                      | 450kB 12.1MB/s eta 0:00:01\r\u001b[K     |█████████▊                      | 460kB 12.1MB/s eta 0:00:01\r\u001b[K     |██████████                      | 471kB 12.1MB/s eta 0:00:01\r\u001b[K     |██████████▏                     | 481kB 12.1MB/s eta 0:00:01\r\u001b[K     |██████████▍                     | 491kB 12.1MB/s eta 0:00:01\r\u001b[K     |██████████▋                     | 501kB 12.1MB/s eta 0:00:01\r\u001b[K     |██████████▉                     | 512kB 12.1MB/s eta 0:00:01\r\u001b[K     |███████████                     | 522kB 12.1MB/s eta 0:00:01\r\u001b[K     |███████████▎                    | 532kB 12.1MB/s eta 0:00:01\r\u001b[K     |███████████▌                    | 542kB 12.1MB/s eta 0:00:01\r\u001b[K     |███████████▊                    | 552kB 12.1MB/s eta 0:00:01\r\u001b[K     |████████████                    | 563kB 12.1MB/s eta 0:00:01\r\u001b[K     |████████████▏                   | 573kB 12.1MB/s eta 0:00:01\r\u001b[K     |████████████▍                   | 583kB 12.1MB/s eta 0:00:01\r\u001b[K     |████████████▋                   | 593kB 12.1MB/s eta 0:00:01\r\u001b[K     |████████████▉                   | 604kB 12.1MB/s eta 0:00:01\r\u001b[K     |█████████████                   | 614kB 12.1MB/s eta 0:00:01\r\u001b[K     |█████████████▏                  | 624kB 12.1MB/s eta 0:00:01\r\u001b[K     |█████████████▍                  | 634kB 12.1MB/s eta 0:00:01\r\u001b[K     |█████████████▋                  | 645kB 12.1MB/s eta 0:00:01\r\u001b[K     |█████████████▉                  | 655kB 12.1MB/s eta 0:00:01\r\u001b[K     |██████████████                  | 665kB 12.1MB/s eta 0:00:01\r\u001b[K     |██████████████▎                 | 675kB 12.1MB/s eta 0:00:01\r\u001b[K     |██████████████▌                 | 686kB 12.1MB/s eta 0:00:01\r\u001b[K     |██████████████▊                 | 696kB 12.1MB/s eta 0:00:01\r\u001b[K     |███████████████                 | 706kB 12.1MB/s eta 0:00:01\r\u001b[K     |███████████████▏                | 716kB 12.1MB/s eta 0:00:01\r\u001b[K     |███████████████▍                | 727kB 12.1MB/s eta 0:00:01\r\u001b[K     |███████████████▋                | 737kB 12.1MB/s eta 0:00:01\r\u001b[K     |███████████████▉                | 747kB 12.1MB/s eta 0:00:01\r\u001b[K     |████████████████                | 757kB 12.1MB/s eta 0:00:01\r\u001b[K     |████████████████▎               | 768kB 12.1MB/s eta 0:00:01\r\u001b[K     |████████████████▌               | 778kB 12.1MB/s eta 0:00:01\r\u001b[K     |████████████████▊               | 788kB 12.1MB/s eta 0:00:01\r\u001b[K     |█████████████████               | 798kB 12.1MB/s eta 0:00:01\r\u001b[K     |█████████████████               | 808kB 12.1MB/s eta 0:00:01\r\u001b[K     |█████████████████▎              | 819kB 12.1MB/s eta 0:00:01\r\u001b[K     |█████████████████▌              | 829kB 12.1MB/s eta 0:00:01\r\u001b[K     |█████████████████▊              | 839kB 12.1MB/s eta 0:00:01\r\u001b[K     |██████████████████              | 849kB 12.1MB/s eta 0:00:01\r\u001b[K     |██████████████████▏             | 860kB 12.1MB/s eta 0:00:01\r\u001b[K     |██████████████████▍             | 870kB 12.1MB/s eta 0:00:01\r\u001b[K     |██████████████████▋             | 880kB 12.1MB/s eta 0:00:01\r\u001b[K     |██████████████████▉             | 890kB 12.1MB/s eta 0:00:01\r\u001b[K     |███████████████████             | 901kB 12.1MB/s eta 0:00:01\r\u001b[K     |███████████████████▎            | 911kB 12.1MB/s eta 0:00:01\r\u001b[K     |███████████████████▌            | 921kB 12.1MB/s eta 0:00:01\r\u001b[K     |███████████████████▊            | 931kB 12.1MB/s eta 0:00:01\r\u001b[K     |████████████████████            | 942kB 12.1MB/s eta 0:00:01\r\u001b[K     |████████████████████▏           | 952kB 12.1MB/s eta 0:00:01\r\u001b[K     |████████████████████▍           | 962kB 12.1MB/s eta 0:00:01\r\u001b[K     |████████████████████▋           | 972kB 12.1MB/s eta 0:00:01\r\u001b[K     |████████████████████▉           | 983kB 12.1MB/s eta 0:00:01\r\u001b[K     |█████████████████████           | 993kB 12.1MB/s eta 0:00:01\r\u001b[K     |█████████████████████▎          | 1.0MB 12.1MB/s eta 0:00:01\r\u001b[K     |█████████████████████▍          | 1.0MB 12.1MB/s eta 0:00:01\r\u001b[K     |█████████████████████▋          | 1.0MB 12.1MB/s eta 0:00:01\r\u001b[K     |█████████████████████▉          | 1.0MB 12.1MB/s eta 0:00:01\r\u001b[K     |██████████████████████          | 1.0MB 12.1MB/s eta 0:00:01\r\u001b[K     |██████████████████████▎         | 1.1MB 12.1MB/s eta 0:00:01\r\u001b[K     |██████████████████████▌         | 1.1MB 12.1MB/s eta 0:00:01\r\u001b[K     |██████████████████████▊         | 1.1MB 12.1MB/s eta 0:00:01\r\u001b[K     |███████████████████████         | 1.1MB 12.1MB/s eta 0:00:01\r\u001b[K     |███████████████████████▏        | 1.1MB 12.1MB/s eta 0:00:01\r\u001b[K     |███████████████████████▍        | 1.1MB 12.1MB/s eta 0:00:01\r\u001b[K     |███████████████████████▋        | 1.1MB 12.1MB/s eta 0:00:01\r\u001b[K     |███████████████████████▉        | 1.1MB 12.1MB/s eta 0:00:01\r\u001b[K     |████████████████████████        | 1.1MB 12.1MB/s eta 0:00:01\r\u001b[K     |████████████████████████▎       | 1.1MB 12.1MB/s eta 0:00:01\r\u001b[K     |████████████████████████▌       | 1.2MB 12.1MB/s eta 0:00:01\r\u001b[K     |████████████████████████▊       | 1.2MB 12.1MB/s eta 0:00:01\r\u001b[K     |█████████████████████████       | 1.2MB 12.1MB/s eta 0:00:01\r\u001b[K     |█████████████████████████▏      | 1.2MB 12.1MB/s eta 0:00:01\r\u001b[K     |█████████████████████████▍      | 1.2MB 12.1MB/s eta 0:00:01\r\u001b[K     |█████████████████████████▋      | 1.2MB 12.1MB/s eta 0:00:01\r\u001b[K     |█████████████████████████▊      | 1.2MB 12.1MB/s eta 0:00:01\r\u001b[K     |██████████████████████████      | 1.2MB 12.1MB/s eta 0:00:01\r\u001b[K     |██████████████████████████▏     | 1.2MB 12.1MB/s eta 0:00:01\r\u001b[K     |██████████████████████████▍     | 1.2MB 12.1MB/s eta 0:00:01\r\u001b[K     |██████████████████████████▋     | 1.3MB 12.1MB/s eta 0:00:01\r\u001b[K     |██████████████████████████▉     | 1.3MB 12.1MB/s eta 0:00:01\r\u001b[K     |███████████████████████████     | 1.3MB 12.1MB/s eta 0:00:01\r\u001b[K     |███████████████████████████▎    | 1.3MB 12.1MB/s eta 0:00:01\r\u001b[K     |███████████████████████████▌    | 1.3MB 12.1MB/s eta 0:00:01\r\u001b[K     |███████████████████████████▊    | 1.3MB 12.1MB/s eta 0:00:01\r\u001b[K     |████████████████████████████    | 1.3MB 12.1MB/s eta 0:00:01\r\u001b[K     |████████████████████████████▏   | 1.3MB 12.1MB/s eta 0:00:01\r\u001b[K     |████████████████████████████▍   | 1.3MB 12.1MB/s eta 0:00:01\r\u001b[K     |████████████████████████████▋   | 1.4MB 12.1MB/s eta 0:00:01\r\u001b[K     |████████████████████████████▉   | 1.4MB 12.1MB/s eta 0:00:01\r\u001b[K     |█████████████████████████████   | 1.4MB 12.1MB/s eta 0:00:01\r\u001b[K     |█████████████████████████████▎  | 1.4MB 12.1MB/s eta 0:00:01\r\u001b[K     |█████████████████████████████▌  | 1.4MB 12.1MB/s eta 0:00:01\r\u001b[K     |█████████████████████████████▊  | 1.4MB 12.1MB/s eta 0:00:01\r\u001b[K     |█████████████████████████████▉  | 1.4MB 12.1MB/s eta 0:00:01\r\u001b[K     |██████████████████████████████  | 1.4MB 12.1MB/s eta 0:00:01\r\u001b[K     |██████████████████████████████▎ | 1.4MB 12.1MB/s eta 0:00:01\r\u001b[K     |██████████████████████████████▌ | 1.4MB 12.1MB/s eta 0:00:01\r\u001b[K     |██████████████████████████████▊ | 1.5MB 12.1MB/s eta 0:00:01\r\u001b[K     |███████████████████████████████ | 1.5MB 12.1MB/s eta 0:00:01\r\u001b[K     |███████████████████████████████▏| 1.5MB 12.1MB/s eta 0:00:01\r\u001b[K     |███████████████████████████████▍| 1.5MB 12.1MB/s eta 0:00:01\r\u001b[K     |███████████████████████████████▋| 1.5MB 12.1MB/s eta 0:00:01\r\u001b[K     |███████████████████████████████▉| 1.5MB 12.1MB/s eta 0:00:01\r\u001b[K     |████████████████████████████████| 1.5MB 12.1MB/s \n",
            "\u001b[?25hRequirement already satisfied, skipping upgrade: dataclasses; python_version < \"3.7\" in /usr/local/lib/python3.6/dist-packages (from transformers) (0.8)\n",
            "Collecting tokenizers==0.9.4\n",
            "\u001b[?25l  Downloading https://files.pythonhosted.org/packages/0f/1c/e789a8b12e28be5bc1ce2156cf87cb522b379be9cadc7ad8091a4cc107c4/tokenizers-0.9.4-cp36-cp36m-manylinux2010_x86_64.whl (2.9MB)\n",
            "\u001b[K     |████████████████████████████████| 2.9MB 52.3MB/s \n",
            "\u001b[?25hCollecting sacremoses\n",
            "\u001b[?25l  Downloading https://files.pythonhosted.org/packages/7d/34/09d19aff26edcc8eb2a01bed8e98f13a1537005d31e95233fd48216eed10/sacremoses-0.0.43.tar.gz (883kB)\n",
            "\u001b[K     |████████████████████████████████| 890kB 41.6MB/s \n",
            "\u001b[?25hRequirement already satisfied, skipping upgrade: requests in /usr/local/lib/python3.6/dist-packages (from transformers) (2.23.0)\n",
            "Requirement already satisfied, skipping upgrade: filelock in /usr/local/lib/python3.6/dist-packages (from transformers) (3.0.12)\n",
            "Requirement already satisfied, skipping upgrade: packaging in /usr/local/lib/python3.6/dist-packages (from transformers) (20.8)\n",
            "Requirement already satisfied, skipping upgrade: regex!=2019.12.17 in /usr/local/lib/python3.6/dist-packages (from transformers) (2019.12.20)\n",
            "Requirement already satisfied, skipping upgrade: numpy in /usr/local/lib/python3.6/dist-packages (from transformers) (1.19.4)\n",
            "Requirement already satisfied, skipping upgrade: tqdm>=4.27 in /usr/local/lib/python3.6/dist-packages (from transformers) (4.41.1)\n",
            "Requirement already satisfied, skipping upgrade: six in /usr/local/lib/python3.6/dist-packages (from sacremoses->transformers) (1.15.0)\n",
            "Requirement already satisfied, skipping upgrade: click in /usr/local/lib/python3.6/dist-packages (from sacremoses->transformers) (7.1.2)\n",
            "Requirement already satisfied, skipping upgrade: joblib in /usr/local/lib/python3.6/dist-packages (from sacremoses->transformers) (1.0.0)\n",
            "Requirement already satisfied, skipping upgrade: idna<3,>=2.5 in /usr/local/lib/python3.6/dist-packages (from requests->transformers) (2.10)\n",
            "Requirement already satisfied, skipping upgrade: urllib3!=1.25.0,!=1.25.1,<1.26,>=1.21.1 in /usr/local/lib/python3.6/dist-packages (from requests->transformers) (1.24.3)\n",
            "Requirement already satisfied, skipping upgrade: certifi>=2017.4.17 in /usr/local/lib/python3.6/dist-packages (from requests->transformers) (2020.12.5)\n",
            "Requirement already satisfied, skipping upgrade: chardet<4,>=3.0.2 in /usr/local/lib/python3.6/dist-packages (from requests->transformers) (3.0.4)\n",
            "Requirement already satisfied, skipping upgrade: pyparsing>=2.0.2 in /usr/local/lib/python3.6/dist-packages (from packaging->transformers) (2.4.7)\n",
            "Building wheels for collected packages: sacremoses\n",
            "  Building wheel for sacremoses (setup.py) ... \u001b[?25l\u001b[?25hdone\n",
            "  Created wheel for sacremoses: filename=sacremoses-0.0.43-cp36-none-any.whl size=893261 sha256=361cf5648055b96b7ae627c670d56597bece896bfcc57b24ee696abb973a8df2\n",
            "  Stored in directory: /root/.cache/pip/wheels/29/3c/fd/7ce5c3f0666dab31a50123635e6fb5e19ceb42ce38d4e58f45\n",
            "Successfully built sacremoses\n",
            "Installing collected packages: tokenizers, sacremoses, transformers\n",
            "Successfully installed sacremoses-0.0.43 tokenizers-0.9.4 transformers-4.1.1\n",
            "Collecting sentencepiece\n",
            "\u001b[?25l  Downloading https://files.pythonhosted.org/packages/e5/2d/6d4ca4bef9a67070fa1cac508606328329152b1df10bdf31fb6e4e727894/sentencepiece-0.1.94-cp36-cp36m-manylinux2014_x86_64.whl (1.1MB)\n",
            "\u001b[K     |████████████████████████████████| 1.1MB 13.5MB/s \n",
            "\u001b[?25hInstalling collected packages: sentencepiece\n",
            "Successfully installed sentencepiece-0.1.94\n"
          ],
          "name": "stdout"
        }
      ]
    },
    {
      "cell_type": "code",
      "metadata": {
        "colab": {
          "base_uri": "https://localhost:8080/",
          "height": 165,
          "referenced_widgets": [
            "0021de91fffd43fb936d451b26212553",
            "4ad915a3d80c45b2ba69d9ab1104b4a0",
            "448bd6fd874e41f58104c60241421f96",
            "827f47567713435dbdc5e823affb7bb1",
            "ac6f6ef3de784fdb9f1838ae8b632f44",
            "7df16df897724a7c97305b913c569f8f",
            "771afe0810dc45bc86961930cf7d991a",
            "58cc19b9de324af882a0eca089561e55",
            "7da39267b52948ce902ec211fa27e11b",
            "f0c0a284d6434df4850e43fc2d3915bd",
            "a960aef0ad6e458d9493e590b5b5c1be",
            "1ed094ceb6e34f02a27caa12a65ff11d",
            "6cd8dadf1bb442478094fcad8c1a855c",
            "d88ac234fa0044f39acb199ff68376df",
            "d58fb7e629ca460a8a908caecbad1405",
            "4de52ebf4ddd424eb8d28c41898b38a2",
            "353f7bfcecf649e3bf97a306ba21b607",
            "cec0b1af59304b3181d38179f01fc385",
            "091894c44095473f92adc83092ba7422",
            "0ce27752e6114124ad3de25954b01dde",
            "be174f1fee68459b9297de3cd7251d05",
            "d4738f64b2b54edaa4da929ab1291edc",
            "e610c05d88b44ea68d9183387530ddeb",
            "55e137b95c8e4a7ab8b403e87916f388"
          ]
        },
        "id": "jGtUoOtX5lfm",
        "outputId": "746cc0e3-7934-483c-ce15-b682e750368f"
      },
      "source": [
        "from transformers import PegasusTokenizer\n",
        "tokenizer = PegasusTokenizer.from_pretrained('google/pegasus-large')"
      ],
      "execution_count": 2,
      "outputs": [
        {
          "output_type": "display_data",
          "data": {
            "application/vnd.jupyter.widget-view+json": {
              "model_id": "0021de91fffd43fb936d451b26212553",
              "version_minor": 0,
              "version_major": 2
            },
            "text/plain": [
              "HBox(children=(FloatProgress(value=0.0, description='Downloading', max=1912529.0, style=ProgressStyle(descript…"
            ]
          },
          "metadata": {
            "tags": []
          }
        },
        {
          "output_type": "stream",
          "text": [
            "\n"
          ],
          "name": "stdout"
        },
        {
          "output_type": "display_data",
          "data": {
            "application/vnd.jupyter.widget-view+json": {
              "model_id": "7da39267b52948ce902ec211fa27e11b",
              "version_minor": 0,
              "version_major": 2
            },
            "text/plain": [
              "HBox(children=(FloatProgress(value=0.0, description='Downloading', max=65.0, style=ProgressStyle(description_w…"
            ]
          },
          "metadata": {
            "tags": []
          }
        },
        {
          "output_type": "stream",
          "text": [
            "\n"
          ],
          "name": "stdout"
        },
        {
          "output_type": "display_data",
          "data": {
            "application/vnd.jupyter.widget-view+json": {
              "model_id": "353f7bfcecf649e3bf97a306ba21b607",
              "version_minor": 0,
              "version_major": 2
            },
            "text/plain": [
              "HBox(children=(FloatProgress(value=0.0, description='Downloading', max=88.0, style=ProgressStyle(description_w…"
            ]
          },
          "metadata": {
            "tags": []
          }
        },
        {
          "output_type": "stream",
          "text": [
            "\n"
          ],
          "name": "stdout"
        }
      ]
    },
    {
      "cell_type": "code",
      "metadata": {
        "colab": {
          "base_uri": "https://localhost:8080/"
        },
        "id": "7SIB6HBpRAJW",
        "outputId": "6d95e3a8-ecf8-4157-9842-d6bf34177a41"
      },
      "source": [
        "from transformers import PegasusForConditionalGeneration, PegasusTokenizer\r\n",
        "import torch\r\n",
        "src_text = [\r\n",
        "\"\"\"The present invention relates to a method, system and UE for state transition. The method includes: after a transition from the CELL-PCH state to the CELL-FACH state, a UE receives the scheduling control channel continuously, or receives simultaneously the scheduling control channel according to the receiving time corresponding to the DRX mechanism when the UE is in the CELL-FACH state and the receiving time corresponding to the DRX mechanism when the UE is in the CELL-PCH state; after obtaining an indication of normal reception, the UE receives the scheduling control channel according to the receiving time corresponding to the DRX mechanism when the UE is in the CELL-FACH state; the radio network controller has be informed that the UE has transited from the CELL-PCH state to the CELL-FACH state simultaneously when the UE obtains the indication of normal reception, so as to avoid data loss in a certain period after the state transition of the UE.\"\"\"]\r\n",
        "model_name = 'google/pegasus-big_patent'\r\n",
        "torch_device = 'cuda' if torch.cuda.is_available() else 'cpu'\r\n",
        "tokenizer = PegasusTokenizer.from_pretrained(model_name)\r\n",
        "model = PegasusForConditionalGeneration.from_pretrained(model_name).to(torch_device)\r\n",
        "batch = tokenizer.prepare_seq2seq_batch(src_text, truncation=True, padding='longest', return_tensors=\"pt\").to(torch_device)\r\n",
        "translated = model.generate(**batch)\r\n",
        "tgt_text = tokenizer.batch_decode(translated, skip_special_tokens=True)\r\n",
        "print(tgt_text[0])"
      ],
      "execution_count": 1,
      "outputs": [
        {
          "output_type": "stream",
          "text": [
            "Some weights of PegasusForConditionalGeneration were not initialized from the model checkpoint at google/pegasus-big_patent and are newly initialized: ['lm_head.weight']\n",
            "You should probably TRAIN this model on a down-stream task to be able to use it for predictions and inference.\n"
          ],
          "name": "stderr"
        },
        {
          "output_type": "stream",
          "text": [
            "The present invention relates to a method, system and UE for state transition. The method includes: after a transition from the CDMA-CDMA state to the CDMA-CDMA state, a UE receives the scheduling control channel continuously, or receives simultaneously the scheduling control channel according to the receiving time corresponding to the NodeD mechanism when the UE is in the CDMA-CDMA state and the receiving time corresponding to the NodeD mechanism when the UE is in the CDMA-CDMA state.\n"
          ],
          "name": "stdout"
        }
      ]
    }
  ]
}